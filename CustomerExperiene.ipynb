{
 "cells": [
  {
   "cell_type": "markdown",
   "metadata": {},
   "source": [
    " # ---------------Problem Definition-------------- ##\n",
    " \n",
    "This notebook is prepared to analyze the feedback given by customers of a company and identify the key improvement areas. We analyze the sentiment of different demographics as well as measure the performance of different branch of retailer at different time dimension. "
   ]
  },
  {
   "cell_type": "markdown",
   "metadata": {},
   "source": [
    "# ------------- Exploratory  Data Analysis------------------ #"
   ]
  },
  {
   "cell_type": "code",
   "execution_count": 1,
   "metadata": {},
   "outputs": [],
   "source": [
    "#Import the required libraries\n",
    "import pandas as pd\n",
    "import matplotlib.pyplot as plt\n",
    "import seaborn as sns\n",
    "from textblob import TextBlob"
   ]
  },
  {
   "cell_type": "markdown",
   "metadata": {},
   "source": [
    "## Load the data ##"
   ]
  },
  {
   "cell_type": "code",
   "execution_count": 2,
   "metadata": {},
   "outputs": [],
   "source": [
    "df_loaded=pd.read_excel(\"Bluemountain.xls\")"
   ]
  },
  {
   "cell_type": "code",
   "execution_count": 3,
   "metadata": {
    "scrolled": true
   },
   "outputs": [
    {
     "data": {
      "text/html": [
       "<div>\n",
       "<style scoped>\n",
       "    .dataframe tbody tr th:only-of-type {\n",
       "        vertical-align: middle;\n",
       "    }\n",
       "\n",
       "    .dataframe tbody tr th {\n",
       "        vertical-align: top;\n",
       "    }\n",
       "\n",
       "    .dataframe thead th {\n",
       "        text-align: right;\n",
       "    }\n",
       "</style>\n",
       "<table border=\"1\" class=\"dataframe\">\n",
       "  <thead>\n",
       "    <tr style=\"text-align: right;\">\n",
       "      <th></th>\n",
       "      <th>Id</th>\n",
       "      <th>Name</th>\n",
       "      <th>Href</th>\n",
       "      <th>_ExternalId</th>\n",
       "      <th>Receipt No</th>\n",
       "      <th>Customer No</th>\n",
       "      <th>Shop Date</th>\n",
       "      <th>Store</th>\n",
       "      <th>NPS Label</th>\n",
       "      <th>NPS Score</th>\n",
       "      <th>...</th>\n",
       "      <th>Gender</th>\n",
       "      <th>Price</th>\n",
       "      <th>Availability</th>\n",
       "      <th>Service</th>\n",
       "      <th>Information</th>\n",
       "      <th>Requested Callback</th>\n",
       "      <th>Time Of Day</th>\n",
       "      <th>Region</th>\n",
       "      <th>Division</th>\n",
       "      <th>Comment Tags</th>\n",
       "    </tr>\n",
       "  </thead>\n",
       "  <tbody>\n",
       "    <tr>\n",
       "      <th>count</th>\n",
       "      <td>3212.000000</td>\n",
       "      <td>3212</td>\n",
       "      <td>0.0</td>\n",
       "      <td>3212.000000</td>\n",
       "      <td>3212.000000</td>\n",
       "      <td>3.212000e+03</td>\n",
       "      <td>3212</td>\n",
       "      <td>3212</td>\n",
       "      <td>3212</td>\n",
       "      <td>3212.000000</td>\n",
       "      <td>...</td>\n",
       "      <td>3212</td>\n",
       "      <td>3212</td>\n",
       "      <td>3212</td>\n",
       "      <td>3212</td>\n",
       "      <td>3212</td>\n",
       "      <td>3212</td>\n",
       "      <td>3212</td>\n",
       "      <td>3212</td>\n",
       "      <td>3212</td>\n",
       "      <td>2926</td>\n",
       "    </tr>\n",
       "    <tr>\n",
       "      <th>unique</th>\n",
       "      <td>NaN</td>\n",
       "      <td>3</td>\n",
       "      <td>NaN</td>\n",
       "      <td>NaN</td>\n",
       "      <td>NaN</td>\n",
       "      <td>NaN</td>\n",
       "      <td>11</td>\n",
       "      <td>261</td>\n",
       "      <td>3</td>\n",
       "      <td>NaN</td>\n",
       "      <td>...</td>\n",
       "      <td>2</td>\n",
       "      <td>3</td>\n",
       "      <td>3</td>\n",
       "      <td>3</td>\n",
       "      <td>3</td>\n",
       "      <td>2</td>\n",
       "      <td>11</td>\n",
       "      <td>4</td>\n",
       "      <td>4</td>\n",
       "      <td>1857</td>\n",
       "    </tr>\n",
       "    <tr>\n",
       "      <th>top</th>\n",
       "      <td>NaN</td>\n",
       "      <td>Neutral</td>\n",
       "      <td>NaN</td>\n",
       "      <td>NaN</td>\n",
       "      <td>NaN</td>\n",
       "      <td>NaN</td>\n",
       "      <td>2014-10-02T10:00:00</td>\n",
       "      <td>Chadstone</td>\n",
       "      <td>Neutral</td>\n",
       "      <td>NaN</td>\n",
       "      <td>...</td>\n",
       "      <td>Female</td>\n",
       "      <td>Worse</td>\n",
       "      <td>Worse</td>\n",
       "      <td>Worse</td>\n",
       "      <td>Worse</td>\n",
       "      <td>No</td>\n",
       "      <td>10am</td>\n",
       "      <td>Region 2</td>\n",
       "      <td>Apparel</td>\n",
       "      <td>Price</td>\n",
       "    </tr>\n",
       "    <tr>\n",
       "      <th>freq</th>\n",
       "      <td>NaN</td>\n",
       "      <td>1899</td>\n",
       "      <td>NaN</td>\n",
       "      <td>NaN</td>\n",
       "      <td>NaN</td>\n",
       "      <td>NaN</td>\n",
       "      <td>326</td>\n",
       "      <td>56</td>\n",
       "      <td>1899</td>\n",
       "      <td>NaN</td>\n",
       "      <td>...</td>\n",
       "      <td>1615</td>\n",
       "      <td>1859</td>\n",
       "      <td>1779</td>\n",
       "      <td>1855</td>\n",
       "      <td>1836</td>\n",
       "      <td>1613</td>\n",
       "      <td>326</td>\n",
       "      <td>818</td>\n",
       "      <td>827</td>\n",
       "      <td>46</td>\n",
       "    </tr>\n",
       "    <tr>\n",
       "      <th>mean</th>\n",
       "      <td>2100.769303</td>\n",
       "      <td>NaN</td>\n",
       "      <td>NaN</td>\n",
       "      <td>7768.525841</td>\n",
       "      <td>50549.420299</td>\n",
       "      <td>5.114535e+06</td>\n",
       "      <td>NaN</td>\n",
       "      <td>NaN</td>\n",
       "      <td>NaN</td>\n",
       "      <td>7.547634</td>\n",
       "      <td>...</td>\n",
       "      <td>NaN</td>\n",
       "      <td>NaN</td>\n",
       "      <td>NaN</td>\n",
       "      <td>NaN</td>\n",
       "      <td>NaN</td>\n",
       "      <td>NaN</td>\n",
       "      <td>NaN</td>\n",
       "      <td>NaN</td>\n",
       "      <td>NaN</td>\n",
       "      <td>NaN</td>\n",
       "    </tr>\n",
       "    <tr>\n",
       "      <th>std</th>\n",
       "      <td>1228.711205</td>\n",
       "      <td>NaN</td>\n",
       "      <td>NaN</td>\n",
       "      <td>4111.825070</td>\n",
       "      <td>28367.984870</td>\n",
       "      <td>2.913550e+06</td>\n",
       "      <td>NaN</td>\n",
       "      <td>NaN</td>\n",
       "      <td>NaN</td>\n",
       "      <td>1.221334</td>\n",
       "      <td>...</td>\n",
       "      <td>NaN</td>\n",
       "      <td>NaN</td>\n",
       "      <td>NaN</td>\n",
       "      <td>NaN</td>\n",
       "      <td>NaN</td>\n",
       "      <td>NaN</td>\n",
       "      <td>NaN</td>\n",
       "      <td>NaN</td>\n",
       "      <td>NaN</td>\n",
       "      <td>NaN</td>\n",
       "    </tr>\n",
       "    <tr>\n",
       "      <th>min</th>\n",
       "      <td>0.000000</td>\n",
       "      <td>NaN</td>\n",
       "      <td>NaN</td>\n",
       "      <td>3.000000</td>\n",
       "      <td>1010.000000</td>\n",
       "      <td>1.019760e+05</td>\n",
       "      <td>NaN</td>\n",
       "      <td>NaN</td>\n",
       "      <td>NaN</td>\n",
       "      <td>5.000000</td>\n",
       "      <td>...</td>\n",
       "      <td>NaN</td>\n",
       "      <td>NaN</td>\n",
       "      <td>NaN</td>\n",
       "      <td>NaN</td>\n",
       "      <td>NaN</td>\n",
       "      <td>NaN</td>\n",
       "      <td>NaN</td>\n",
       "      <td>NaN</td>\n",
       "      <td>NaN</td>\n",
       "      <td>NaN</td>\n",
       "    </tr>\n",
       "    <tr>\n",
       "      <th>25%</th>\n",
       "      <td>1019.750000</td>\n",
       "      <td>NaN</td>\n",
       "      <td>NaN</td>\n",
       "      <td>4722.000000</td>\n",
       "      <td>25987.750000</td>\n",
       "      <td>2.568726e+06</td>\n",
       "      <td>NaN</td>\n",
       "      <td>NaN</td>\n",
       "      <td>NaN</td>\n",
       "      <td>7.000000</td>\n",
       "      <td>...</td>\n",
       "      <td>NaN</td>\n",
       "      <td>NaN</td>\n",
       "      <td>NaN</td>\n",
       "      <td>NaN</td>\n",
       "      <td>NaN</td>\n",
       "      <td>NaN</td>\n",
       "      <td>NaN</td>\n",
       "      <td>NaN</td>\n",
       "      <td>NaN</td>\n",
       "      <td>NaN</td>\n",
       "    </tr>\n",
       "    <tr>\n",
       "      <th>50%</th>\n",
       "      <td>2081.500000</td>\n",
       "      <td>NaN</td>\n",
       "      <td>NaN</td>\n",
       "      <td>8012.000000</td>\n",
       "      <td>50039.500000</td>\n",
       "      <td>5.109123e+06</td>\n",
       "      <td>NaN</td>\n",
       "      <td>NaN</td>\n",
       "      <td>NaN</td>\n",
       "      <td>8.000000</td>\n",
       "      <td>...</td>\n",
       "      <td>NaN</td>\n",
       "      <td>NaN</td>\n",
       "      <td>NaN</td>\n",
       "      <td>NaN</td>\n",
       "      <td>NaN</td>\n",
       "      <td>NaN</td>\n",
       "      <td>NaN</td>\n",
       "      <td>NaN</td>\n",
       "      <td>NaN</td>\n",
       "      <td>NaN</td>\n",
       "    </tr>\n",
       "    <tr>\n",
       "      <th>75%</th>\n",
       "      <td>3171.250000</td>\n",
       "      <td>NaN</td>\n",
       "      <td>NaN</td>\n",
       "      <td>11072.500000</td>\n",
       "      <td>74933.750000</td>\n",
       "      <td>7.639817e+06</td>\n",
       "      <td>NaN</td>\n",
       "      <td>NaN</td>\n",
       "      <td>NaN</td>\n",
       "      <td>8.000000</td>\n",
       "      <td>...</td>\n",
       "      <td>NaN</td>\n",
       "      <td>NaN</td>\n",
       "      <td>NaN</td>\n",
       "      <td>NaN</td>\n",
       "      <td>NaN</td>\n",
       "      <td>NaN</td>\n",
       "      <td>NaN</td>\n",
       "      <td>NaN</td>\n",
       "      <td>NaN</td>\n",
       "      <td>NaN</td>\n",
       "    </tr>\n",
       "    <tr>\n",
       "      <th>max</th>\n",
       "      <td>4250.000000</td>\n",
       "      <td>NaN</td>\n",
       "      <td>NaN</td>\n",
       "      <td>14829.000000</td>\n",
       "      <td>100979.000000</td>\n",
       "      <td>1.008906e+07</td>\n",
       "      <td>NaN</td>\n",
       "      <td>NaN</td>\n",
       "      <td>NaN</td>\n",
       "      <td>9.000000</td>\n",
       "      <td>...</td>\n",
       "      <td>NaN</td>\n",
       "      <td>NaN</td>\n",
       "      <td>NaN</td>\n",
       "      <td>NaN</td>\n",
       "      <td>NaN</td>\n",
       "      <td>NaN</td>\n",
       "      <td>NaN</td>\n",
       "      <td>NaN</td>\n",
       "      <td>NaN</td>\n",
       "      <td>NaN</td>\n",
       "    </tr>\n",
       "  </tbody>\n",
       "</table>\n",
       "<p>11 rows × 28 columns</p>\n",
       "</div>"
      ],
      "text/plain": [
       "                 Id     Name  Href   _ExternalId     Receipt No   Customer No  \\\n",
       "count   3212.000000     3212   0.0   3212.000000    3212.000000  3.212000e+03   \n",
       "unique          NaN        3   NaN           NaN            NaN           NaN   \n",
       "top             NaN  Neutral   NaN           NaN            NaN           NaN   \n",
       "freq            NaN     1899   NaN           NaN            NaN           NaN   \n",
       "mean    2100.769303      NaN   NaN   7768.525841   50549.420299  5.114535e+06   \n",
       "std     1228.711205      NaN   NaN   4111.825070   28367.984870  2.913550e+06   \n",
       "min        0.000000      NaN   NaN      3.000000    1010.000000  1.019760e+05   \n",
       "25%     1019.750000      NaN   NaN   4722.000000   25987.750000  2.568726e+06   \n",
       "50%     2081.500000      NaN   NaN   8012.000000   50039.500000  5.109123e+06   \n",
       "75%     3171.250000      NaN   NaN  11072.500000   74933.750000  7.639817e+06   \n",
       "max     4250.000000      NaN   NaN  14829.000000  100979.000000  1.008906e+07   \n",
       "\n",
       "                  Shop Date      Store NPS Label    NPS Score  ...  Gender  \\\n",
       "count                  3212       3212      3212  3212.000000  ...    3212   \n",
       "unique                   11        261         3          NaN  ...       2   \n",
       "top     2014-10-02T10:00:00  Chadstone   Neutral          NaN  ...  Female   \n",
       "freq                    326         56      1899          NaN  ...    1615   \n",
       "mean                    NaN        NaN       NaN     7.547634  ...     NaN   \n",
       "std                     NaN        NaN       NaN     1.221334  ...     NaN   \n",
       "min                     NaN        NaN       NaN     5.000000  ...     NaN   \n",
       "25%                     NaN        NaN       NaN     7.000000  ...     NaN   \n",
       "50%                     NaN        NaN       NaN     8.000000  ...     NaN   \n",
       "75%                     NaN        NaN       NaN     8.000000  ...     NaN   \n",
       "max                     NaN        NaN       NaN     9.000000  ...     NaN   \n",
       "\n",
       "        Price Availability Service Information Requested Callback  \\\n",
       "count    3212         3212    3212        3212               3212   \n",
       "unique      3            3       3           3                  2   \n",
       "top     Worse        Worse   Worse       Worse                 No   \n",
       "freq     1859         1779    1855        1836               1613   \n",
       "mean      NaN          NaN     NaN         NaN                NaN   \n",
       "std       NaN          NaN     NaN         NaN                NaN   \n",
       "min       NaN          NaN     NaN         NaN                NaN   \n",
       "25%       NaN          NaN     NaN         NaN                NaN   \n",
       "50%       NaN          NaN     NaN         NaN                NaN   \n",
       "75%       NaN          NaN     NaN         NaN                NaN   \n",
       "max       NaN          NaN     NaN         NaN                NaN   \n",
       "\n",
       "        Time Of Day    Region Division Comment Tags  \n",
       "count          3212      3212     3212         2926  \n",
       "unique           11         4        4         1857  \n",
       "top            10am  Region 2  Apparel        Price  \n",
       "freq            326       818      827           46  \n",
       "mean            NaN       NaN      NaN          NaN  \n",
       "std             NaN       NaN      NaN          NaN  \n",
       "min             NaN       NaN      NaN          NaN  \n",
       "25%             NaN       NaN      NaN          NaN  \n",
       "50%             NaN       NaN      NaN          NaN  \n",
       "75%             NaN       NaN      NaN          NaN  \n",
       "max             NaN       NaN      NaN          NaN  \n",
       "\n",
       "[11 rows x 28 columns]"
      ]
     },
     "execution_count": 3,
     "metadata": {},
     "output_type": "execute_result"
    }
   ],
   "source": [
    "df_loaded.describe(include='all')"
   ]
  },
  {
   "cell_type": "markdown",
   "metadata": {},
   "source": [
    "## Clean and Prepare data for analysis ##"
   ]
  },
  {
   "cell_type": "code",
   "execution_count": 4,
   "metadata": {},
   "outputs": [
    {
     "name": "stdout",
     "output_type": "stream",
     "text": [
      "<class 'pandas.core.frame.DataFrame'>\n",
      "RangeIndex: 3212 entries, 0 to 3211\n",
      "Data columns (total 28 columns):\n",
      " #   Column                       Non-Null Count  Dtype  \n",
      "---  ------                       --------------  -----  \n",
      " 0   Id                           3212 non-null   int64  \n",
      " 1   Name                         3212 non-null   object \n",
      " 2   Href                         0 non-null      float64\n",
      " 3   _ExternalId                  3212 non-null   int64  \n",
      " 4   Receipt No                   3212 non-null   int64  \n",
      " 5   Customer No                  3212 non-null   int64  \n",
      " 6   Shop Date                    3212 non-null   object \n",
      " 7   Store                        3212 non-null   object \n",
      " 8   NPS Label                    3212 non-null   object \n",
      " 9   NPS Score                    3212 non-null   int64  \n",
      " 10  Likelihood To Shop Again     3212 non-null   int64  \n",
      " 11  Customer Satisfaction Score  3212 non-null   int64  \n",
      " 12  Category                     3212 non-null   object \n",
      " 13  Question                     3212 non-null   object \n",
      " 14  Comment                      3208 non-null   object \n",
      " 15  Total Spend                  3212 non-null   object \n",
      " 16  Age                          3212 non-null   int64  \n",
      " 17  Age Group                    3212 non-null   object \n",
      " 18  Gender                       3212 non-null   object \n",
      " 19  Price                        3212 non-null   object \n",
      " 20  Availability                 3212 non-null   object \n",
      " 21  Service                      3212 non-null   object \n",
      " 22  Information                  3212 non-null   object \n",
      " 23  Requested Callback           3212 non-null   object \n",
      " 24  Time Of Day                  3212 non-null   object \n",
      " 25  Region                       3212 non-null   object \n",
      " 26  Division                     3212 non-null   object \n",
      " 27  Comment Tags                 2926 non-null   object \n",
      "dtypes: float64(1), int64(8), object(19)\n",
      "memory usage: 702.8+ KB\n"
     ]
    }
   ],
   "source": [
    "df_loaded.info()"
   ]
  },
  {
   "cell_type": "code",
   "execution_count": 5,
   "metadata": {},
   "outputs": [],
   "source": [
    "# dropping unncessesary columns\n",
    "df_cleaned=df_loaded.drop(columns=['Id','Href','_ExternalId','Receipt No','Customer No'])\n",
    "#keeping column names more consistent\n",
    "df_cleaned.columns=[ *map(lambda x: x.lower().replace(' ','_'),df_cleaned.columns)]\n",
    "#removing dollar symbol from total_spend\n",
    "df_cleaned.total_spend=df_cleaned.total_spend.str.replace('$','').astype(float)"
   ]
  },
  {
   "cell_type": "code",
   "execution_count": 6,
   "metadata": {},
   "outputs": [
    {
     "name": "stdout",
     "output_type": "stream",
     "text": [
      "<class 'pandas.core.frame.DataFrame'>\n",
      "RangeIndex: 3212 entries, 0 to 3211\n",
      "Data columns (total 23 columns):\n",
      " #   Column                       Non-Null Count  Dtype  \n",
      "---  ------                       --------------  -----  \n",
      " 0   name                         3212 non-null   object \n",
      " 1   shop_date                    3212 non-null   object \n",
      " 2   store                        3212 non-null   object \n",
      " 3   nps_label                    3212 non-null   object \n",
      " 4   nps_score                    3212 non-null   int64  \n",
      " 5   likelihood_to_shop_again     3212 non-null   int64  \n",
      " 6   customer_satisfaction_score  3212 non-null   int64  \n",
      " 7   category                     3212 non-null   object \n",
      " 8   question                     3212 non-null   object \n",
      " 9   comment                      3208 non-null   object \n",
      " 10  total_spend                  3212 non-null   float64\n",
      " 11  age                          3212 non-null   int64  \n",
      " 12  age_group                    3212 non-null   object \n",
      " 13  gender                       3212 non-null   object \n",
      " 14  price                        3212 non-null   object \n",
      " 15  availability                 3212 non-null   object \n",
      " 16  service                      3212 non-null   object \n",
      " 17  information                  3212 non-null   object \n",
      " 18  requested_callback           3212 non-null   object \n",
      " 19  time_of_day                  3212 non-null   object \n",
      " 20  region                       3212 non-null   object \n",
      " 21  division                     3212 non-null   object \n",
      " 22  comment_tags                 2926 non-null   object \n",
      "dtypes: float64(1), int64(4), object(18)\n",
      "memory usage: 577.3+ KB\n"
     ]
    }
   ],
   "source": [
    "df_cleaned.info()"
   ]
  },
  {
   "cell_type": "code",
   "execution_count": 7,
   "metadata": {},
   "outputs": [],
   "source": [
    "#let's find out sentiment value from comment\n",
    "sentiment_polarity=[]\n",
    "for comment in df_cleaned.comment:\n",
    "    x=TextBlob(str(comment))\n",
    "    sentiment_polarity.append(round(x.polarity,1))"
   ]
  },
  {
   "cell_type": "code",
   "execution_count": 8,
   "metadata": {},
   "outputs": [],
   "source": [
    "df_cleaned.insert(23, \"sentiment_polarity\", sentiment_polarity, True) "
   ]
  },
  {
   "cell_type": "code",
   "execution_count": 9,
   "metadata": {},
   "outputs": [
    {
     "name": "stdout",
     "output_type": "stream",
     "text": [
      "no particular reason. items wanted were in stock and 3 for 2 childrens clothing discount applied to similarly priced items rather than just the cheapest of all of them thankfully.\n",
      "\n",
      "-0.0\n"
     ]
    }
   ],
   "source": [
    "print(df_cleaned.comment[10]+'\\n\\n'+ str(df_cleaned.sentiment_polarity[10]))"
   ]
  },
  {
   "cell_type": "markdown",
   "metadata": {},
   "source": [
    "### ------ Demographic of Customers--------- ###"
   ]
  },
  {
   "cell_type": "code",
   "execution_count": 10,
   "metadata": {},
   "outputs": [
    {
     "data": {
      "text/plain": [
       "<seaborn.axisgrid.FacetGrid at 0x7f98d4b8adf0>"
      ]
     },
     "execution_count": 10,
     "metadata": {},
     "output_type": "execute_result"
    },
    {
     "data": {
      "image/png": "[encoded data removed]",
      "text/plain": [
       "<Figure size 792.125x720 with 4 Axes>"
      ]
     },
     "metadata": {
      "needs_background": "light"
     },
     "output_type": "display_data"
    }
   ],
   "source": [
    "age_order=['18-24','25-29','30-39','40-49','50-59','60+']\n",
    "region_order=['Region 1','Region 2','Region 3','Region 4']\n",
    "sns.catplot(x='age_group',hue='gender',col='region',col_wrap=2,data=df_cleaned,order=age_order,kind='count',col_order=region_order)"
   ]
  },
  {
   "cell_type": "markdown",
   "metadata": {},
   "source": [
    "### Relationship of customer sentiment polarity with customer satisfaction score ###"
   ]
  },
  {
   "cell_type": "code",
   "execution_count": 11,
   "metadata": {},
   "outputs": [
    {
     "data": {
      "text/plain": [
       "<seaborn.axisgrid.FacetGrid at 0x7f98d7a7aa90>"
      ]
     },
     "execution_count": 11,
     "metadata": {},
     "output_type": "execute_result"
    },
    {
     "data": {
      "image/png": "[encoded data removed]",
      "text/plain": [
       "<Figure size 432.125x360 with 1 Axes>"
      ]
     },
     "metadata": {
      "needs_background": "light"
     },
     "output_type": "display_data"
    }
   ],
   "source": [
    "#sns.catplot(data=df_cleaned,x='time_of_day',y='sentiment_polarity',row='store',kind='box')\n",
    "sns.relplot(x='customer_satisfaction_score',y='sentiment_polarity',hue='gender',data=df_cleaned,kind='line')"
   ]
  },
  {
   "cell_type": "markdown",
   "metadata": {},
   "source": [
    "**We can see that increasing value of customer satisfaction score does not have much effect on sentiment polarity  before customer satisfaction score reaches to 6.But after satisfaction score of 6,increasing score value means more positive sentiment.**"
   ]
  },
  {
   "cell_type": "markdown",
   "metadata": {},
   "source": [
    "### --------Bad Customer Experience ( Which Store?)  -------- ###"
   ]
  },
  {
   "cell_type": "code",
   "execution_count": 12,
   "metadata": {},
   "outputs": [
    {
     "name": "stdout",
     "output_type": "stream",
     "text": [
      "total number of stores:261\n"
     ]
    },
    {
     "data": {
      "text/plain": [
       "Chadstone        56\n",
       "Morley           45\n",
       "Brisbane CBD     43\n",
       "North Lakes      42\n",
       "Edwardstown      41\n",
       "Rockingham       40\n",
       "Chatswood        39\n",
       "Southland        36\n",
       "Bullcreek        35\n",
       "Melbourne CBD    35\n",
       "Name: store, dtype: int64"
      ]
     },
     "execution_count": 12,
     "metadata": {},
     "output_type": "execute_result"
    }
   ],
   "source": [
    "# total number of stores in feedback data\n",
    "\n",
    "stores=len(df_cleaned['store'].value_counts())\n",
    "store_list=df_cleaned['store'].value_counts()\n",
    "print(\"total number of stores\"+\":\"+str(stores))\n",
    "store_list[0:10]"
   ]
  },
  {
   "cell_type": "code",
   "execution_count": 13,
   "metadata": {
    "scrolled": false
   },
   "outputs": [
    {
     "name": "stdout",
     "output_type": "stream",
     "text": [
      "Total number of worst experiences found in record are:\n",
      "\n",
      "55\n",
      "\n",
      "Total number of worst stores:32\n",
      "\n",
      "The worst stores are:\n",
      "\n"
     ]
    },
    {
     "data": {
      "text/plain": [
       "array(['Northland', 'Warrnambool', 'Liverpool', 'North Lakes',\n",
       "       'Blacktown', 'Eastgardens', 'Maroochydore', 'Belconnen', 'Robina',\n",
       "       'Roselands', 'Macarthur Square', 'Toowoomba', 'Bairnsdale',\n",
       "       'Hollywood Plaza', 'Forest Hill', 'Gladstone', 'Dalby',\n",
       "       'Hoppers Crossing', 'Earlville', 'Rhodes', 'Charlestown',\n",
       "       'Watergardens', 'The Willows', 'Cannot find store', 'Hornsby',\n",
       "       'Mareeba', 'Perth CBD', 'Fountain Gate', 'Victor Harbor',\n",
       "       'Rouse Hill', 'Wonthaggi', 'Southport'], dtype=object)"
      ]
     },
     "execution_count": 13,
     "metadata": {},
     "output_type": "execute_result"
    }
   ],
   "source": [
    "# find the stores satsfying bad customer experience\n",
    "worse_condition1=(df_cleaned['customer_satisfaction_score']<6)& (df_cleaned['likelihood_to_shop_again']<6)\n",
    "worse_condition2=(df_cleaned['service']=='Worse')&(df_cleaned['availability']=='Worse')\n",
    "category_condition=(df_cleaned['category']=='In-store Shopping Improvement Comments')|(df_cleaned['category']=='Satisfaction Comments')\n",
    "df_worse_experience=df_cleaned[(worse_condition1 & worse_condition2)]\n",
    "df_worse_store=df_cleaned[(worse_condition1 & worse_condition2)& (category_condition)]\n",
    "worse_store=len(df_worse_store.store.value_counts())\n",
    "print('Total number of worst experiences found in record are:\\n')\n",
    "print(len(df_worse_experience))\n",
    "print(\"\\nTotal number of worst stores\"+\":\"+str(worse_store))\n",
    "print(\"\\nThe worst stores are:\\n\")\n",
    "df_worse_store.store.unique()"
   ]
  },
  {
   "cell_type": "markdown",
   "metadata": {},
   "source": [
    "### ----------------Bad Customer Experience(Which region and division ?)---------- ####"
   ]
  },
  {
   "cell_type": "code",
   "execution_count": 14,
   "metadata": {},
   "outputs": [
    {
     "data": {
      "image/png": "[encoded data removed]",
      "text/plain": [
       "<Figure size 434.375x360 with 1 Axes>"
      ]
     },
     "metadata": {
      "needs_background": "light"
     },
     "output_type": "display_data"
    }
   ],
   "source": [
    "#plt.title('Number of comments and their category for bad customer experience ')\n",
    "sns.catplot(x='region',kind='count',hue='division',data=df_worse_experience).set(title='Where did worst experience happen?')\n",
    "plt.xticks(rotation='30')\n",
    "plt.show()"
   ]
  },
  {
   "cell_type": "markdown",
   "metadata": {},
   "source": [
    "**We can see that Region 1,2,3 neeed to specially focus on 'other' division, while Region 4 needs to focus more on 'House' division.**"
   ]
  },
  {
   "cell_type": "markdown",
   "metadata": {},
   "source": [
    "### ----------Bad Customer Experience (What time ?)---------- ###"
   ]
  },
  {
   "cell_type": "code",
   "execution_count": 15,
   "metadata": {},
   "outputs": [
    {
     "data": {
      "image/png": "[encoded data removed]",
      "text/plain": [
       "<Figure size 360x360 with 1 Axes>"
      ]
     },
     "metadata": {
      "needs_background": "light"
     },
     "output_type": "display_data"
    }
   ],
   "source": [
    "time_order=['8am','9am','10am','11am','12pm','1pm','2pm','3pm','4pm','5pm','6pm']\n",
    "sns.catplot(x='time_of_day',kind='count',data=df_worse_experience,order=time_order).set(title='What time did worst experience happen?')\n",
    "plt.xticks(rotation='30')\n",
    "plt.show()"
   ]
  },
  {
   "cell_type": "markdown",
   "metadata": {},
   "source": [
    "**Althoug bad experiences are not felt on some specific time, it can be seen it's recorded more between 9am-11am and 5 pm.**"
   ]
  },
  {
   "cell_type": "markdown",
   "metadata": {},
   "source": [
    "### -------- Good Customer Experience (which stores)-------- ###"
   ]
  },
  {
   "cell_type": "code",
   "execution_count": 16,
   "metadata": {},
   "outputs": [
    {
     "name": "stdout",
     "output_type": "stream",
     "text": [
      "Total number of the good experiences found are:\n",
      "126\n",
      "\n",
      "Total number of good stores :80\n",
      "\n",
      "The good stores are:\n",
      "\n"
     ]
    },
    {
     "data": {
      "text/plain": [
       "array(['Katanning', 'Ocean Shores', 'Castlemaine', 'Yass', 'Joondalup',\n",
       "       'Edwardstown', '6548-Unknown', 'Springwood', 'Chermside',\n",
       "       'Chadstone', 'Parramatta', 'Toombul', 'Merrylands', 'Marion',\n",
       "       'Kotara', 'Wetherill Park', 'Hervey Bay', 'Rockingham',\n",
       "       'Batemans Bay', 'Mildura', 'Bankstown', 'Burwood', 'Sefton Park',\n",
       "       'North Lakes', 'Bondi', 'Macarthur Square', 'Earlville',\n",
       "       'Carlingford', 'Burnie', 'Castle Hill', 'Ringwood', 'Cairns',\n",
       "       'Wonthaggi', 'Miranda', 'Cowra', 'Perth CBD', 'Northland',\n",
       "       'Chatswood', 'Whitford City', 'Bullcreek', 'Brisbane CBD',\n",
       "       'Fremantle', 'Elizabeth', 'Gilgandra', 'St Marys', 'Carindale',\n",
       "       'Queanbeyan', 'Glenorchy', 'Mornington', 'Castletown',\n",
       "       'West Lakes', 'Penrith', '5224-Unknown', 'Somerville', 'Morwell',\n",
       "       'Grafton', 'Tamworth', 'Frankston', 'Sunbury', 'Ballarat',\n",
       "       'Palmerston', 'Camberwell', 'Tenterfield', 'Point Cook', 'Mackay',\n",
       "       'Hollywood Plaza', 'Charlestown', 'Bentleigh', 'Melbourne CBD',\n",
       "       'Ipswich', 'Ocean Grove', 'Hornsby', 'Morayfield',\n",
       "       'Hoppers Crossing', 'Erina', 'Greensborough', 'Toowoomba', 'Taree',\n",
       "       'Reynella', 'Bunbury'], dtype=object)"
      ]
     },
     "execution_count": 16,
     "metadata": {},
     "output_type": "execute_result"
    }
   ],
   "source": [
    "# Find the stores satisfying good customer experience\n",
    "good_condition1=(df_cleaned['customer_satisfaction_score']>6)& (df_cleaned['likelihood_to_shop_again']>6)\n",
    "good_condition2=(df_cleaned['service']=='Better')&(df_cleaned['availability']=='Better')\n",
    "good_condition3=df_cleaned['sentiment_polarity']>=0\n",
    "category_condition=(df_cleaned['category']=='In-store Shopping Improvement Comments')|(df_cleaned['category']=='Satisfaction Comments')\n",
    "df_good_experience=df_cleaned[(good_condition1 & good_condition2)& good_condition3]\n",
    "df_good_store=df_cleaned[(good_condition1 & good_condition2)& (good_condition3 & category_condition)]\n",
    "good_store=len(df_good_store.store.value_counts())\n",
    "print('Total number of the good experiences found are:')\n",
    "print(len(df_good_experience))\n",
    "print(\"\\nTotal number of good stores\"+\" :\"+ str(good_store))\n",
    "print(\"\\nThe good stores are:\\n\")\n",
    "df_good_store.store.unique()"
   ]
  },
  {
   "cell_type": "markdown",
   "metadata": {},
   "source": [
    "### ---------------Good Customer Experience(which region and divison)----------- #####"
   ]
  },
  {
   "cell_type": "code",
   "execution_count": 17,
   "metadata": {},
   "outputs": [
    {
     "data": {
      "image/png": "[encoded data removed]",
      "text/plain": [
       "<Figure size 434.375x360 with 1 Axes>"
      ]
     },
     "metadata": {
      "needs_background": "light"
     },
     "output_type": "display_data"
    }
   ],
   "source": [
    "sns.catplot(x='region',kind='count',hue='division',data=df_good_experience).set(title='Where did good experience happen?')\n",
    "plt.xticks(rotation='30')\n",
    "plt.show()"
   ]
  },
  {
   "cell_type": "markdown",
   "metadata": {},
   "source": [
    "**Most of the customers recording good shopping experiences did shopping in 'Apparel' and 'Other' division of different regions.**"
   ]
  },
  {
   "cell_type": "markdown",
   "metadata": {},
   "source": [
    "### ----------- Good Customer Experience(What time?)------- ###"
   ]
  },
  {
   "cell_type": "code",
   "execution_count": 18,
   "metadata": {},
   "outputs": [
    {
     "data": {
      "image/png": "[encoded data removed]",
      "text/plain": [
       "<Figure size 360x360 with 1 Axes>"
      ]
     },
     "metadata": {
      "needs_background": "light"
     },
     "output_type": "display_data"
    }
   ],
   "source": [
    "time_order=['8am','9am','10am','11am','12pm','1pm','2pm','3pm','4pm','5pm','6pm']\n",
    "sns.catplot(x='time_of_day',kind='count',data=df_good_experience,order=time_order).set(title='What time did good experience happen?')\n",
    "plt.xticks(rotation='30')\n",
    "plt.show()"
   ]
  },
  {
   "cell_type": "markdown",
   "metadata": {},
   "source": [
    "**We can see that most of the customers who had good experiences shop at 9am and 1-2pm.**"
   ]
  },
  {
   "cell_type": "markdown",
   "metadata": {},
   "source": [
    "###  -------- Bad Experience (price and quality)--------- ###"
   ]
  },
  {
   "cell_type": "code",
   "execution_count": 19,
   "metadata": {},
   "outputs": [
    {
     "data": {
      "text/plain": [
       "<seaborn.axisgrid.FacetGrid at 0x7f98d6881a30>"
      ]
     },
     "execution_count": 19,
     "metadata": {},
     "output_type": "execute_result"
    },
    {
     "data": {
      "image/png": "[encoded data removed]",
      "text/plain": [
       "<Figure size 434.375x360 with 1 Axes>"
      ]
     },
     "metadata": {
      "needs_background": "light"
     },
     "output_type": "display_data"
    }
   ],
   "source": [
    "bad_condition=(df_cleaned.price=='Worse')& (df_cleaned.category=='Product Quality Comments')&(df_cleaned.sentiment_polarity<0)\n",
    "worse_price_quality=df_cleaned[bad_condition]\n",
    "sns.catplot(x='age_group',data=worse_price_quality,hue='division',kind='count',order=age_order).set(title='Bad price and quality feedback')"
   ]
  },
  {
   "cell_type": "markdown",
   "metadata": {},
   "source": [
    "**From figure above it is clear that customers aged above 60 have bad experience of price and quality mostly in 'other'and 'baby' division.Young people seem unhappy with quality and price of 'Apparel' and 'Other' division of items more than other division of items. It needs special attention.**"
   ]
  },
  {
   "cell_type": "markdown",
   "metadata": {},
   "source": [
    "### --------Store List (Only Bad Experience)----- ###"
   ]
  },
  {
   "cell_type": "code",
   "execution_count": 20,
   "metadata": {},
   "outputs": [
    {
     "name": "stdout",
     "output_type": "stream",
     "text": [
      "['Dalby', 'Tweed Heads', 'Liverpool', 'Bairnsdale', 'Warrnambool', 'The Willows', 'Belconnen', 'Mareeba', 'Watergardens', 'Rhodes', 'Robina', 'Victor Harbor', 'Midland', 'Fountain Gate', 'Rouse Hill', 'Southport', 'Gladstone', 'Maroochydore', 'Eastgardens', 'Kalgoorlie', 'Gympie', 'Benalla', 'Capalaba', 'Blacktown', 'Cannot find store', 'Forest Hill', 'Roselands']\n"
     ]
    }
   ],
   "source": [
    "#is there any stores where only bad experience is recorded ?\n",
    "\n",
    "set_common=set(df_worse_experience.store).intersection(set(df_good_experience.store))\n",
    "set_bad_only_store=set(df_worse_experience.store).difference(set_common)\n",
    "print(list(set_bad_only_store))"
   ]
  },
  {
   "cell_type": "markdown",
   "metadata": {},
   "source": [
    "### ------Store List (Only Good Experience)----- ###"
   ]
  },
  {
   "cell_type": "code",
   "execution_count": 21,
   "metadata": {},
   "outputs": [
    {
     "name": "stdout",
     "output_type": "stream",
     "text": [
      "These are stores where only good experience is recorded\n",
      "\n",
      "['Mackay', 'Ipswich', 'Miranda', 'Frankston', 'Carlingford', 'Sefton Park', 'Bullcreek', 'Fremantle', 'Taree', 'Ocean Shores', 'Greensborough', 'Grafton', 'Glenorchy', 'Palmerston', 'Parramatta', 'Queanbeyan', 'Penrith', 'Bankstown', 'Bundaberg', 'Melbourne CBD', 'Yass', 'Ballarat', 'Cairns', 'Knox City', 'Yeppoon', 'Rockhampton', 'Tamworth', 'Elizabeth', 'Tenterfield', 'Bunbury', 'Toombul', 'Castle Hill', 'Merrylands', 'Gilgandra', 'Albany', 'Burwood', 'Bondi', 'Morayfield', 'Somerville', 'West Lakes', '5224-Unknown', 'Chadstone', 'Marion', 'Whitford City', 'Batemans Bay', 'Castletown', 'Sale', 'Springwood', 'Bentleigh', 'Katanning', 'Point Cook', 'Cowra', 'Wetherill Park', 'Ringwood', 'Castlemaine', 'Camberwell', '6548-Unknown', 'Myrtleford', 'Erina', 'St Marys', 'Kotara', 'Morwell', 'Sunbury', 'Rockingham', 'Chermside', 'Burnie', 'Brisbane CBD', 'Carindale', 'Hervey Bay', 'Reynella', 'Ocean Grove', 'Mildura', 'Edwardstown', 'Mornington', 'Chatswood']\n"
     ]
    }
   ],
   "source": [
    "#is there any stores where only good experience is recorded?\n",
    "set_good_only_store=set(df_good_experience.store).difference(set_common)\n",
    "print('These are stores where only good experience is recorded\\n')\n",
    "print(list(set_good_only_store))"
   ]
  },
  {
   "cell_type": "code",
   "execution_count": 22,
   "metadata": {},
   "outputs": [
    {
     "data": {
      "text/plain": [
       "<seaborn.axisgrid.FacetGrid at 0x7f98d66a44f0>"
      ]
     },
     "execution_count": 22,
     "metadata": {},
     "output_type": "execute_result"
    },
    {
     "data": {
      "image/png": "[encoded data removed]",
      "text/plain": [
       "<Figure size 432.125x360 with 1 Axes>"
      ]
     },
     "metadata": {
      "needs_background": "light"
     },
     "output_type": "display_data"
    }
   ],
   "source": [
    "#relationship between age and sentiment polarity\n",
    "#df_cleaned.total_spend.astype(float)\n",
    "sns.catplot(x='age_group',y='sentiment_polarity',hue='gender',data=df_cleaned,kind='box')"
   ]
  },
  {
   "cell_type": "markdown",
   "metadata": {},
   "source": [
    "### Let's find those negative comments from customer having bad experience ###"
   ]
  },
  {
   "cell_type": "code",
   "execution_count": 23,
   "metadata": {},
   "outputs": [
    {
     "data": {
      "text/plain": [
       "30      I went to buy my daughter knickers and there was only 1 packet in her size from the whole range of 10 or 4 packs, and it was open so my only option was to buy it anyway, she is size 4-6. Then when I went to buy my knickers there were no size 10 high cut in multi packs with at least 200 other packs there, none in my size, this was very disappointing.\n",
       "69                                                                                                                                                                                Found it very difficult to locate some products, was disappointed with the selection available and limited sizes, and found some things much more expensive than available elsewhere.\n",
       "274                                                                                                                                                                                                                                                                                               Quality of the material used in some of the dresses were rather poor.\n",
       "1262                                                                                                                                                                       Due to my experience at the checkout I would suggest you update your system so that customers don't have to waste valuable time and your staff also don't have to waste their valuable time.\n",
       "1392                                                                                                                                                                                                                                                                                                                                lines were too long at the register\n",
       "1494                                                                                                                                                                                                                                                                                                                                              The product was dirty\n",
       "1562                                                                                                                                                                                                                                                                                                                                          Pourly made and too small\n",
       "1735                                                                                                                                                                                                                                                                                                                               not enough variety. some were dirty.\n",
       "2268                                                                                                                                                                                                                                                                                                                                Lines were too long at the register\n",
       "3005                                                                                                                                                                                                                                                                                    I asked for help from an employee and he turned around and walked the other way\n",
       "3088                                                                                                                                                                                                                                                                                                               It was very difficult to find what I was looking for\n",
       "3095                                                                                                                                                                                                                                                                                                        Not many staff around to assist you.  Had to look for them.\n",
       "Name: comment, dtype: object"
      ]
     },
     "execution_count": 23,
     "metadata": {},
     "output_type": "execute_result"
    }
   ],
   "source": [
    "pd.set_option(\"display.max_colwidth\", None)\n",
    "df_worse_experience[df_worse_experience.sentiment_polarity<-0.0]['comment']"
   ]
  },
  {
   "cell_type": "markdown",
   "metadata": {},
   "source": [
    "### Recommendations:\n",
    "\n",
    "Stores in which customers reported only worst experiences need immediate attention.From above comments we can derive some major issues that has caused bad customer experiences and should be addressed first starting from  worst stores.Major recommendations are listed below:\n",
    "\n",
    "* Need to check and organize the stocks properly and fill the empty products as soon as possible\n",
    "* Need to monitor the products quality and cleanliness\n",
    "* Customer service needs to improve, queue should not be long\n",
    "* We can see that Region 1,2,3 neeed to specially focus on 'other' division, while Region 4 needs to focus more on 'House' division.\n",
    "* Althoug bad experiences are not felt on some specific time, it can be seen it's recorded more between 9am-11am and 5 pm\n",
    "\n",
    "\n",
    "* **Immediate attention should be given to following list of stores for improvements:**\n",
    "\n",
    "    **'Dalby', 'Tweed Heads', 'Liverpool', 'Bairnsdale', 'Warrnambool', 'The Willows', 'Belconnen', 'Mareeba', 'Watergardens', 'Rhodes', 'Robina', 'Victor Harbor', 'Midland', 'Fountain Gate', 'Rouse Hill', 'Southport', 'Gladstone', 'Maroochydore', 'Eastgardens', 'Kalgoorlie', 'Gympie', 'Benalla', 'Capalaba', 'Blacktown', 'Cannot find store', 'Forest Hill', 'Roselands'**\n",
    "\n",
    "    \n",
    "          \n",
    "           "
   ]
  },
  {
   "cell_type": "code",
   "execution_count": null,
   "metadata": {},
   "outputs": [],
   "source": []
  }
 ],
 "metadata": {
  "kernelspec": {
   "display_name": "Python 3",
   "language": "python",
   "name": "python3"
  },
  "language_info": {
   "codemirror_mode": {
    "name": "ipython",
    "version": 3
   },
   "file_extension": ".py",
   "mimetype": "text/x-python",
   "name": "python",
   "nbconvert_exporter": "python",
   "pygments_lexer": "ipython3",
   "version": "3.8.5"
  }
 },
 "nbformat": 4,
 "nbformat_minor": 4
}
