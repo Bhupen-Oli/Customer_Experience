{
 "cells": [
  {
   "cell_type": "markdown",
   "metadata": {},
   "source": [
    " # ---------------Problem Definition-------------- ##\n",
    " \n",
    "This notebook is prepared to analyze the feedback given by customers of a company and identify the key improvement areas. We analyze the sentiment of different demographics as well as measure the performance of different branch of retailer at different time dimension. "
   ]
  },
  {
   "cell_type": "markdown",
   "metadata": {},
   "source": [
    "# ------------- Exploratory  Data Analysis------------------ #"
   ]
  },
  {
   "cell_type": "code",
   "execution_count": 1,
   "metadata": {},
   "outputs": [],
   "source": [
    "#Import the required libraries\n",
    "import pandas as pd\n",
    "import matplotlib.pyplot as plt\n",
    "import seaborn as sns\n",
    "from textblob import TextBlob"
   ]
  },
  {
   "cell_type": "markdown",
   "metadata": {},
   "source": [
    "## Load the data ##"
   ]
  },
  {
   "cell_type": "code",
   "execution_count": 2,
   "metadata": {},
   "outputs": [],
   "source": [
    "df_loaded=pd.read_excel(\"Bluemountain.xls\")"
   ]
  },
  {
   "cell_type": "code",
   "execution_count": 3,
   "metadata": {},
   "outputs": [
    {
     "data": {
      "text/plain": [
       "array(['2014-10-02T11:00:00', '2014-10-02T17:00:00',\n",
       "       '2014-10-02T13:00:00', '2014-10-02T09:00:00',\n",
       "       '2014-10-02T18:00:00', '2014-10-02T16:00:00',\n",
       "       '2014-10-02T10:00:00', '2014-10-02T08:00:00',\n",
       "       '2014-10-02T14:00:00', '2014-10-02T15:00:00',\n",
       "       '2014-10-02T12:00:00'], dtype=object)"
      ]
     },
     "execution_count": 3,
     "metadata": {},
     "output_type": "execute_result"
    }
   ],
   "source": [
    "df_loaded['Shop Date'].unique()"
   ]
  },
  {
   "cell_type": "code",
   "execution_count": 4,
   "metadata": {},
   "outputs": [
    {
     "data": {
      "text/plain": [
       "array([   0,    2,    3, ..., 4247, 4249, 4250])"
      ]
     },
     "execution_count": 4,
     "metadata": {},
     "output_type": "execute_result"
    }
   ],
   "source": [
    "df_loaded['Id'].unique()"
   ]
  },
  {
   "cell_type": "code",
   "execution_count": 5,
   "metadata": {
    "scrolled": true
   },
   "outputs": [
    {
     "data": {
      "text/html": [
       "<div>\n",
       "<style scoped>\n",
       "    .dataframe tbody tr th:only-of-type {\n",
       "        vertical-align: middle;\n",
       "    }\n",
       "\n",
       "    .dataframe tbody tr th {\n",
       "        vertical-align: top;\n",
       "    }\n",
       "\n",
       "    .dataframe thead th {\n",
       "        text-align: right;\n",
       "    }\n",
       "</style>\n",
       "<table border=\"1\" class=\"dataframe\">\n",
       "  <thead>\n",
       "    <tr style=\"text-align: right;\">\n",
       "      <th></th>\n",
       "      <th>Id</th>\n",
       "      <th>Name</th>\n",
       "      <th>Href</th>\n",
       "      <th>_ExternalId</th>\n",
       "      <th>Receipt No</th>\n",
       "      <th>Customer No</th>\n",
       "      <th>Shop Date</th>\n",
       "      <th>Store</th>\n",
       "      <th>NPS Label</th>\n",
       "      <th>NPS Score</th>\n",
       "      <th>...</th>\n",
       "      <th>Gender</th>\n",
       "      <th>Price</th>\n",
       "      <th>Availability</th>\n",
       "      <th>Service</th>\n",
       "      <th>Information</th>\n",
       "      <th>Requested Callback</th>\n",
       "      <th>Time Of Day</th>\n",
       "      <th>Region</th>\n",
       "      <th>Division</th>\n",
       "      <th>Comment Tags</th>\n",
       "    </tr>\n",
       "  </thead>\n",
       "  <tbody>\n",
       "    <tr>\n",
       "      <th>count</th>\n",
       "      <td>3212.000000</td>\n",
       "      <td>3212</td>\n",
       "      <td>0.0</td>\n",
       "      <td>3212.000000</td>\n",
       "      <td>3212.000000</td>\n",
       "      <td>3.212000e+03</td>\n",
       "      <td>3212</td>\n",
       "      <td>3212</td>\n",
       "      <td>3212</td>\n",
       "      <td>3212.000000</td>\n",
       "      <td>...</td>\n",
       "      <td>3212</td>\n",
       "      <td>3212</td>\n",
       "      <td>3212</td>\n",
       "      <td>3212</td>\n",
       "      <td>3212</td>\n",
       "      <td>3212</td>\n",
       "      <td>3212</td>\n",
       "      <td>3212</td>\n",
       "      <td>3212</td>\n",
       "      <td>2926</td>\n",
       "    </tr>\n",
       "    <tr>\n",
       "      <th>unique</th>\n",
       "      <td>NaN</td>\n",
       "      <td>3</td>\n",
       "      <td>NaN</td>\n",
       "      <td>NaN</td>\n",
       "      <td>NaN</td>\n",
       "      <td>NaN</td>\n",
       "      <td>11</td>\n",
       "      <td>261</td>\n",
       "      <td>3</td>\n",
       "      <td>NaN</td>\n",
       "      <td>...</td>\n",
       "      <td>2</td>\n",
       "      <td>3</td>\n",
       "      <td>3</td>\n",
       "      <td>3</td>\n",
       "      <td>3</td>\n",
       "      <td>2</td>\n",
       "      <td>11</td>\n",
       "      <td>4</td>\n",
       "      <td>4</td>\n",
       "      <td>1857</td>\n",
       "    </tr>\n",
       "    <tr>\n",
       "      <th>top</th>\n",
       "      <td>NaN</td>\n",
       "      <td>Neutral</td>\n",
       "      <td>NaN</td>\n",
       "      <td>NaN</td>\n",
       "      <td>NaN</td>\n",
       "      <td>NaN</td>\n",
       "      <td>2014-10-02T10:00:00</td>\n",
       "      <td>Chadstone</td>\n",
       "      <td>Neutral</td>\n",
       "      <td>NaN</td>\n",
       "      <td>...</td>\n",
       "      <td>Female</td>\n",
       "      <td>Worse</td>\n",
       "      <td>Worse</td>\n",
       "      <td>Worse</td>\n",
       "      <td>Worse</td>\n",
       "      <td>No</td>\n",
       "      <td>10am</td>\n",
       "      <td>Region 2</td>\n",
       "      <td>Apparel</td>\n",
       "      <td>Price</td>\n",
       "    </tr>\n",
       "    <tr>\n",
       "      <th>freq</th>\n",
       "      <td>NaN</td>\n",
       "      <td>1899</td>\n",
       "      <td>NaN</td>\n",
       "      <td>NaN</td>\n",
       "      <td>NaN</td>\n",
       "      <td>NaN</td>\n",
       "      <td>326</td>\n",
       "      <td>56</td>\n",
       "      <td>1899</td>\n",
       "      <td>NaN</td>\n",
       "      <td>...</td>\n",
       "      <td>1615</td>\n",
       "      <td>1859</td>\n",
       "      <td>1779</td>\n",
       "      <td>1855</td>\n",
       "      <td>1836</td>\n",
       "      <td>1613</td>\n",
       "      <td>326</td>\n",
       "      <td>818</td>\n",
       "      <td>827</td>\n",
       "      <td>46</td>\n",
       "    </tr>\n",
       "    <tr>\n",
       "      <th>mean</th>\n",
       "      <td>2100.769303</td>\n",
       "      <td>NaN</td>\n",
       "      <td>NaN</td>\n",
       "      <td>7768.525841</td>\n",
       "      <td>50549.420299</td>\n",
       "      <td>5.114535e+06</td>\n",
       "      <td>NaN</td>\n",
       "      <td>NaN</td>\n",
       "      <td>NaN</td>\n",
       "      <td>7.547634</td>\n",
       "      <td>...</td>\n",
       "      <td>NaN</td>\n",
       "      <td>NaN</td>\n",
       "      <td>NaN</td>\n",
       "      <td>NaN</td>\n",
       "      <td>NaN</td>\n",
       "      <td>NaN</td>\n",
       "      <td>NaN</td>\n",
       "      <td>NaN</td>\n",
       "      <td>NaN</td>\n",
       "      <td>NaN</td>\n",
       "    </tr>\n",
       "    <tr>\n",
       "      <th>std</th>\n",
       "      <td>1228.711205</td>\n",
       "      <td>NaN</td>\n",
       "      <td>NaN</td>\n",
       "      <td>4111.825070</td>\n",
       "      <td>28367.984870</td>\n",
       "      <td>2.913550e+06</td>\n",
       "      <td>NaN</td>\n",
       "      <td>NaN</td>\n",
       "      <td>NaN</td>\n",
       "      <td>1.221334</td>\n",
       "      <td>...</td>\n",
       "      <td>NaN</td>\n",
       "      <td>NaN</td>\n",
       "      <td>NaN</td>\n",
       "      <td>NaN</td>\n",
       "      <td>NaN</td>\n",
       "      <td>NaN</td>\n",
       "      <td>NaN</td>\n",
       "      <td>NaN</td>\n",
       "      <td>NaN</td>\n",
       "      <td>NaN</td>\n",
       "    </tr>\n",
       "    <tr>\n",
       "      <th>min</th>\n",
       "      <td>0.000000</td>\n",
       "      <td>NaN</td>\n",
       "      <td>NaN</td>\n",
       "      <td>3.000000</td>\n",
       "      <td>1010.000000</td>\n",
       "      <td>1.019760e+05</td>\n",
       "      <td>NaN</td>\n",
       "      <td>NaN</td>\n",
       "      <td>NaN</td>\n",
       "      <td>5.000000</td>\n",
       "      <td>...</td>\n",
       "      <td>NaN</td>\n",
       "      <td>NaN</td>\n",
       "      <td>NaN</td>\n",
       "      <td>NaN</td>\n",
       "      <td>NaN</td>\n",
       "      <td>NaN</td>\n",
       "      <td>NaN</td>\n",
       "      <td>NaN</td>\n",
       "      <td>NaN</td>\n",
       "      <td>NaN</td>\n",
       "    </tr>\n",
       "    <tr>\n",
       "      <th>25%</th>\n",
       "      <td>1019.750000</td>\n",
       "      <td>NaN</td>\n",
       "      <td>NaN</td>\n",
       "      <td>4722.000000</td>\n",
       "      <td>25987.750000</td>\n",
       "      <td>2.568726e+06</td>\n",
       "      <td>NaN</td>\n",
       "      <td>NaN</td>\n",
       "      <td>NaN</td>\n",
       "      <td>7.000000</td>\n",
       "      <td>...</td>\n",
       "      <td>NaN</td>\n",
       "      <td>NaN</td>\n",
       "      <td>NaN</td>\n",
       "      <td>NaN</td>\n",
       "      <td>NaN</td>\n",
       "      <td>NaN</td>\n",
       "      <td>NaN</td>\n",
       "      <td>NaN</td>\n",
       "      <td>NaN</td>\n",
       "      <td>NaN</td>\n",
       "    </tr>\n",
       "    <tr>\n",
       "      <th>50%</th>\n",
       "      <td>2081.500000</td>\n",
       "      <td>NaN</td>\n",
       "      <td>NaN</td>\n",
       "      <td>8012.000000</td>\n",
       "      <td>50039.500000</td>\n",
       "      <td>5.109123e+06</td>\n",
       "      <td>NaN</td>\n",
       "      <td>NaN</td>\n",
       "      <td>NaN</td>\n",
       "      <td>8.000000</td>\n",
       "      <td>...</td>\n",
       "      <td>NaN</td>\n",
       "      <td>NaN</td>\n",
       "      <td>NaN</td>\n",
       "      <td>NaN</td>\n",
       "      <td>NaN</td>\n",
       "      <td>NaN</td>\n",
       "      <td>NaN</td>\n",
       "      <td>NaN</td>\n",
       "      <td>NaN</td>\n",
       "      <td>NaN</td>\n",
       "    </tr>\n",
       "    <tr>\n",
       "      <th>75%</th>\n",
       "      <td>3171.250000</td>\n",
       "      <td>NaN</td>\n",
       "      <td>NaN</td>\n",
       "      <td>11072.500000</td>\n",
       "      <td>74933.750000</td>\n",
       "      <td>7.639817e+06</td>\n",
       "      <td>NaN</td>\n",
       "      <td>NaN</td>\n",
       "      <td>NaN</td>\n",
       "      <td>8.000000</td>\n",
       "      <td>...</td>\n",
       "      <td>NaN</td>\n",
       "      <td>NaN</td>\n",
       "      <td>NaN</td>\n",
       "      <td>NaN</td>\n",
       "      <td>NaN</td>\n",
       "      <td>NaN</td>\n",
       "      <td>NaN</td>\n",
       "      <td>NaN</td>\n",
       "      <td>NaN</td>\n",
       "      <td>NaN</td>\n",
       "    </tr>\n",
       "    <tr>\n",
       "      <th>max</th>\n",
       "      <td>4250.000000</td>\n",
       "      <td>NaN</td>\n",
       "      <td>NaN</td>\n",
       "      <td>14829.000000</td>\n",
       "      <td>100979.000000</td>\n",
       "      <td>1.008906e+07</td>\n",
       "      <td>NaN</td>\n",
       "      <td>NaN</td>\n",
       "      <td>NaN</td>\n",
       "      <td>9.000000</td>\n",
       "      <td>...</td>\n",
       "      <td>NaN</td>\n",
       "      <td>NaN</td>\n",
       "      <td>NaN</td>\n",
       "      <td>NaN</td>\n",
       "      <td>NaN</td>\n",
       "      <td>NaN</td>\n",
       "      <td>NaN</td>\n",
       "      <td>NaN</td>\n",
       "      <td>NaN</td>\n",
       "      <td>NaN</td>\n",
       "    </tr>\n",
       "  </tbody>\n",
       "</table>\n",
       "<p>11 rows × 28 columns</p>\n",
       "</div>"
      ],
      "text/plain": [
       "                 Id     Name  Href   _ExternalId     Receipt No   Customer No  \\\n",
       "count   3212.000000     3212   0.0   3212.000000    3212.000000  3.212000e+03   \n",
       "unique          NaN        3   NaN           NaN            NaN           NaN   \n",
       "top             NaN  Neutral   NaN           NaN            NaN           NaN   \n",
       "freq            NaN     1899   NaN           NaN            NaN           NaN   \n",
       "mean    2100.769303      NaN   NaN   7768.525841   50549.420299  5.114535e+06   \n",
       "std     1228.711205      NaN   NaN   4111.825070   28367.984870  2.913550e+06   \n",
       "min        0.000000      NaN   NaN      3.000000    1010.000000  1.019760e+05   \n",
       "25%     1019.750000      NaN   NaN   4722.000000   25987.750000  2.568726e+06   \n",
       "50%     2081.500000      NaN   NaN   8012.000000   50039.500000  5.109123e+06   \n",
       "75%     3171.250000      NaN   NaN  11072.500000   74933.750000  7.639817e+06   \n",
       "max     4250.000000      NaN   NaN  14829.000000  100979.000000  1.008906e+07   \n",
       "\n",
       "                  Shop Date      Store NPS Label    NPS Score  ...  Gender  \\\n",
       "count                  3212       3212      3212  3212.000000  ...    3212   \n",
       "unique                   11        261         3          NaN  ...       2   \n",
       "top     2014-10-02T10:00:00  Chadstone   Neutral          NaN  ...  Female   \n",
       "freq                    326         56      1899          NaN  ...    1615   \n",
       "mean                    NaN        NaN       NaN     7.547634  ...     NaN   \n",
       "std                     NaN        NaN       NaN     1.221334  ...     NaN   \n",
       "min                     NaN        NaN       NaN     5.000000  ...     NaN   \n",
       "25%                     NaN        NaN       NaN     7.000000  ...     NaN   \n",
       "50%                     NaN        NaN       NaN     8.000000  ...     NaN   \n",
       "75%                     NaN        NaN       NaN     8.000000  ...     NaN   \n",
       "max                     NaN        NaN       NaN     9.000000  ...     NaN   \n",
       "\n",
       "        Price Availability Service Information Requested Callback  \\\n",
       "count    3212         3212    3212        3212               3212   \n",
       "unique      3            3       3           3                  2   \n",
       "top     Worse        Worse   Worse       Worse                 No   \n",
       "freq     1859         1779    1855        1836               1613   \n",
       "mean      NaN          NaN     NaN         NaN                NaN   \n",
       "std       NaN          NaN     NaN         NaN                NaN   \n",
       "min       NaN          NaN     NaN         NaN                NaN   \n",
       "25%       NaN          NaN     NaN         NaN                NaN   \n",
       "50%       NaN          NaN     NaN         NaN                NaN   \n",
       "75%       NaN          NaN     NaN         NaN                NaN   \n",
       "max       NaN          NaN     NaN         NaN                NaN   \n",
       "\n",
       "        Time Of Day    Region Division Comment Tags  \n",
       "count          3212      3212     3212         2926  \n",
       "unique           11         4        4         1857  \n",
       "top            10am  Region 2  Apparel        Price  \n",
       "freq            326       818      827           46  \n",
       "mean            NaN       NaN      NaN          NaN  \n",
       "std             NaN       NaN      NaN          NaN  \n",
       "min             NaN       NaN      NaN          NaN  \n",
       "25%             NaN       NaN      NaN          NaN  \n",
       "50%             NaN       NaN      NaN          NaN  \n",
       "75%             NaN       NaN      NaN          NaN  \n",
       "max             NaN       NaN      NaN          NaN  \n",
       "\n",
       "[11 rows x 28 columns]"
      ]
     },
     "execution_count": 5,
     "metadata": {},
     "output_type": "execute_result"
    }
   ],
   "source": [
    "df_loaded.describe(include='all')"
   ]
  },
  {
   "cell_type": "markdown",
   "metadata": {},
   "source": [
    "## Clean and Prepare data for analysis ##"
   ]
  },
  {
   "cell_type": "code",
   "execution_count": 6,
   "metadata": {},
   "outputs": [
    {
     "name": "stdout",
     "output_type": "stream",
     "text": [
      "<class 'pandas.core.frame.DataFrame'>\n",
      "RangeIndex: 3212 entries, 0 to 3211\n",
      "Data columns (total 28 columns):\n",
      " #   Column                       Non-Null Count  Dtype  \n",
      "---  ------                       --------------  -----  \n",
      " 0   Id                           3212 non-null   int64  \n",
      " 1   Name                         3212 non-null   object \n",
      " 2   Href                         0 non-null      float64\n",
      " 3   _ExternalId                  3212 non-null   int64  \n",
      " 4   Receipt No                   3212 non-null   int64  \n",
      " 5   Customer No                  3212 non-null   int64  \n",
      " 6   Shop Date                    3212 non-null   object \n",
      " 7   Store                        3212 non-null   object \n",
      " 8   NPS Label                    3212 non-null   object \n",
      " 9   NPS Score                    3212 non-null   int64  \n",
      " 10  Likelihood To Shop Again     3212 non-null   int64  \n",
      " 11  Customer Satisfaction Score  3212 non-null   int64  \n",
      " 12  Category                     3212 non-null   object \n",
      " 13  Question                     3212 non-null   object \n",
      " 14  Comment                      3208 non-null   object \n",
      " 15  Total Spend                  3212 non-null   object \n",
      " 16  Age                          3212 non-null   int64  \n",
      " 17  Age Group                    3212 non-null   object \n",
      " 18  Gender                       3212 non-null   object \n",
      " 19  Price                        3212 non-null   object \n",
      " 20  Availability                 3212 non-null   object \n",
      " 21  Service                      3212 non-null   object \n",
      " 22  Information                  3212 non-null   object \n",
      " 23  Requested Callback           3212 non-null   object \n",
      " 24  Time Of Day                  3212 non-null   object \n",
      " 25  Region                       3212 non-null   object \n",
      " 26  Division                     3212 non-null   object \n",
      " 27  Comment Tags                 2926 non-null   object \n",
      "dtypes: float64(1), int64(8), object(19)\n",
      "memory usage: 702.8+ KB\n"
     ]
    }
   ],
   "source": [
    "df_loaded.info()"
   ]
  },
  {
   "cell_type": "code",
   "execution_count": 7,
   "metadata": {},
   "outputs": [],
   "source": [
    "# dropping unncessesary columns\n",
    "df_cleaned=df_loaded.drop(columns=['Id','Href','_ExternalId','Receipt No','Customer No'])\n",
    "#keeping column names more consistent\n",
    "df_cleaned.columns=[ *map(lambda x: x.lower().replace(' ','_'),df_cleaned.columns)]\n",
    "#removing dollar symbol from total_spend\n",
    "df_cleaned.total_spend=df_cleaned.total_spend.str.replace('$','').astype(float)"
   ]
  },
  {
   "cell_type": "code",
   "execution_count": 8,
   "metadata": {},
   "outputs": [
    {
     "name": "stdout",
     "output_type": "stream",
     "text": [
      "<class 'pandas.core.frame.DataFrame'>\n",
      "RangeIndex: 3212 entries, 0 to 3211\n",
      "Data columns (total 23 columns):\n",
      " #   Column                       Non-Null Count  Dtype  \n",
      "---  ------                       --------------  -----  \n",
      " 0   name                         3212 non-null   object \n",
      " 1   shop_date                    3212 non-null   object \n",
      " 2   store                        3212 non-null   object \n",
      " 3   nps_label                    3212 non-null   object \n",
      " 4   nps_score                    3212 non-null   int64  \n",
      " 5   likelihood_to_shop_again     3212 non-null   int64  \n",
      " 6   customer_satisfaction_score  3212 non-null   int64  \n",
      " 7   category                     3212 non-null   object \n",
      " 8   question                     3212 non-null   object \n",
      " 9   comment                      3208 non-null   object \n",
      " 10  total_spend                  3212 non-null   float64\n",
      " 11  age                          3212 non-null   int64  \n",
      " 12  age_group                    3212 non-null   object \n",
      " 13  gender                       3212 non-null   object \n",
      " 14  price                        3212 non-null   object \n",
      " 15  availability                 3212 non-null   object \n",
      " 16  service                      3212 non-null   object \n",
      " 17  information                  3212 non-null   object \n",
      " 18  requested_callback           3212 non-null   object \n",
      " 19  time_of_day                  3212 non-null   object \n",
      " 20  region                       3212 non-null   object \n",
      " 21  division                     3212 non-null   object \n",
      " 22  comment_tags                 2926 non-null   object \n",
      "dtypes: float64(1), int64(4), object(18)\n",
      "memory usage: 577.3+ KB\n"
     ]
    }
   ],
   "source": [
    "df_cleaned.info()"
   ]
  },
  {
   "cell_type": "code",
   "execution_count": 9,
   "metadata": {},
   "outputs": [],
   "source": [
    "#let's find out sentiment value from comment\n",
    "sentiment_polarity=[]\n",
    "for comment in df_cleaned.comment:\n",
    "    x=TextBlob(str(comment))\n",
    "    sentiment_polarity.append(round(x.polarity,1))"
   ]
  },
  {
   "cell_type": "code",
   "execution_count": 10,
   "metadata": {},
   "outputs": [],
   "source": [
    "df_cleaned.insert(23, \"sentiment_polarity\", sentiment_polarity, True) "
   ]
  },
  {
   "cell_type": "code",
   "execution_count": 11,
   "metadata": {},
   "outputs": [
    {
     "name": "stdout",
     "output_type": "stream",
     "text": [
      "no particular reason. items wanted were in stock and 3 for 2 childrens clothing discount applied to similarly priced items rather than just the cheapest of all of them thankfully.\n",
      "\n",
      "-0.0\n"
     ]
    }
   ],
   "source": [
    "print(df_cleaned.comment[10]+'\\n\\n'+ str(df_cleaned.sentiment_polarity[10]))"
   ]
  },
  {
   "cell_type": "markdown",
   "metadata": {},
   "source": [
    "### ------ Demographic of Customers--------- ###"
   ]
  },
  {
   "cell_type": "code",
   "execution_count": 12,
   "metadata": {},
   "outputs": [
    {
     "data": {
      "image/png": "[encoded data removed]",
      "text/plain": [
       "<Figure size 792.125x720 with 4 Axes>"
      ]
     },
     "metadata": {
      "needs_background": "light"
     },
     "output_type": "display_data"
    }
   ],
   "source": [
    "age_order=['18-24','25-29','30-39','40-49','50-59','60+']\n",
    "region_order=['Region 1','Region 2','Region 3','Region 4']\n",
    "sns.catplot(x='age_group',hue='gender',col='region',col_wrap=2,data=df_cleaned,order=age_order,kind='count',col_order=region_order)\n",
    "plt.savefig('demographic.png',bbox_inches='tight')"
   ]
  },
  {
   "cell_type": "code",
   "execution_count": 13,
   "metadata": {},
   "outputs": [],
   "source": [
    "def encode_label(df,cat_col):\n",
    "    cat_dic={}\n",
    "    cats=df[cat_col].cat.categories.tolist()\n",
    "    for cat in cats:\n",
    "        cat_dic[cat]=df[df[cat_col]==cat]['total_spend'].mean()\n",
    "    df[cat_col]=df[cat_col].map(cat_dic)"
   ]
  },
  {
   "cell_type": "code",
   "execution_count": 14,
   "metadata": {},
   "outputs": [],
   "source": [
    "#this function plots heatmap to show correlation among different variables\n",
    "def visual_correlation(df,num_col,cat_col,target_var):\n",
    "    for column in cat_col:\n",
    "        df[column]=df[column].astype(\"category\")\n",
    "        encode_label(df,column)\n",
    "        df[column]=pd.to_numeric(df[column])\n",
    "\n",
    "    fig=plt.figure(figsize=(12,7))\n",
    "    sns.heatmap(df[num_col+cat_col+[target_var]].corr(),cmap='Greens',annot=True)\n",
    "    plt.savefig('corr_matrix.png',bbox_inches='tight')\n",
    "    plt.xticks(rotation=45)"
   ]
  },
  {
   "cell_type": "code",
   "execution_count": 15,
   "metadata": {},
   "outputs": [
    {
     "data": {
      "image/png": "[encoded data removed]",
      "text/plain": [
       "<Figure size 864x504 with 2 Axes>"
      ]
     },
     "metadata": {
      "needs_background": "light"
     },
     "output_type": "display_data"
    }
   ],
   "source": [
    "#see correlation of different measures\n",
    "df_measures=df_cleaned[['likelihood_to_shop_again','customer_satisfaction_score','sentiment_polarity','total_spend','price']]\n",
    "categorical_column=['price','availability','service','information','requested_callback']\n",
    "numerical_column=['likelihood_to_shop_again','customer_satisfaction_score','sentiment_polarity']\n",
    "target_variable='total_spend'\n",
    "visual_correlation(df_cleaned,numerical_column,categorical_column,target_variable)"
   ]
  },
  {
   "cell_type": "markdown",
   "metadata": {},
   "source": [
    "### Relationship of customer sentiment polarity with customer satisfaction score ###"
   ]
  },
  {
   "cell_type": "code",
   "execution_count": 16,
   "metadata": {},
   "outputs": [
    {
     "data": {
      "image/png": "[encoded data removed]",
      "text/plain": [
       "<Figure size 432.125x360 with 1 Axes>"
      ]
     },
     "metadata": {
      "needs_background": "light"
     },
     "output_type": "display_data"
    }
   ],
   "source": [
    "#sns.catplot(data=df_cleaned,x='time_of_day',y='sentiment_polarity',row='store',kind='box')\n",
    "sns.relplot(x='customer_satisfaction_score',y='sentiment_polarity',hue='gender',data=df_cleaned,kind='line')\n",
    "plt.savefig('comment_satisfaction_relation.png',bbox_inches='tight')"
   ]
  },
  {
   "cell_type": "markdown",
   "metadata": {},
   "source": [
    "**We can see that increasing value of customer satisfaction score does not have much effect on sentiment polarity  before customer satisfaction score reaches to 6.But after satisfaction score of 6,increasing score value means more positive sentiment.**"
   ]
  },
  {
   "cell_type": "markdown",
   "metadata": {},
   "source": [
    "### --------Bad Customer Experience ( Which Store?)  -------- ###"
   ]
  },
  {
   "cell_type": "code",
   "execution_count": 17,
   "metadata": {},
   "outputs": [
    {
     "name": "stdout",
     "output_type": "stream",
     "text": [
      "total number of stores:261\n"
     ]
    },
    {
     "data": {
      "text/plain": [
       "Chadstone        56\n",
       "Morley           45\n",
       "Brisbane CBD     43\n",
       "North Lakes      42\n",
       "Edwardstown      41\n",
       "Rockingham       40\n",
       "Chatswood        39\n",
       "Southland        36\n",
       "Melbourne CBD    35\n",
       "Bullcreek        35\n",
       "Name: store, dtype: int64"
      ]
     },
     "execution_count": 17,
     "metadata": {},
     "output_type": "execute_result"
    }
   ],
   "source": [
    "# total number of stores in feedback data\n",
    "\n",
    "stores=len(df_cleaned['store'].value_counts())\n",
    "store_list=df_cleaned['store'].value_counts()\n",
    "print(\"total number of stores\"+\":\"+str(stores))\n",
    "store_list[0:10]"
   ]
  },
  {
   "cell_type": "code",
   "execution_count": 18,
   "metadata": {
    "scrolled": false
   },
   "outputs": [
    {
     "name": "stdout",
     "output_type": "stream",
     "text": [
      "Total number of worst experiences found in record are:\n",
      "\n",
      "0\n",
      "\n",
      "Total number of worst stores:0\n",
      "\n",
      "The worst stores are:\n",
      "\n"
     ]
    },
    {
     "data": {
      "text/plain": [
       "array([], dtype=object)"
      ]
     },
     "execution_count": 18,
     "metadata": {},
     "output_type": "execute_result"
    }
   ],
   "source": [
    "# find the stores satsfying bad customer experience\n",
    "worse_condition1=(df_cleaned['customer_satisfaction_score']<6)& (df_cleaned['likelihood_to_shop_again']<6)\n",
    "worse_condition2=(df_cleaned['service']=='Worse')&(df_cleaned['availability']=='Worse')\n",
    "category_condition=(df_cleaned['category']=='In-store Shopping Improvement Comments')|(df_cleaned['category']=='Satisfaction Comments')\n",
    "df_worse_experience=df_cleaned[(worse_condition1 & worse_condition2)]\n",
    "df_worse_store=df_cleaned[(worse_condition1 & worse_condition2)& (category_condition)]\n",
    "worse_store=len(df_worse_store.store.value_counts())\n",
    "print('Total number of worst experiences found in record are:\\n')\n",
    "print(len(df_worse_experience))\n",
    "print(\"\\nTotal number of worst stores\"+\":\"+str(worse_store))\n",
    "print(\"\\nThe worst stores are:\\n\")\n",
    "df_worse_store.store.unique()"
   ]
  },
  {
   "cell_type": "markdown",
   "metadata": {},
   "source": [
    "### ----------------Bad Customer Experience(Which region and division ?)---------- ####"
   ]
  },
  {
   "cell_type": "code",
   "execution_count": 19,
   "metadata": {},
   "outputs": [
    {
     "ename": "ValueError",
     "evalue": "min() arg is an empty sequence",
     "output_type": "error",
     "traceback": [
      "\u001b[0;31m---------------------------------------------------------------------------\u001b[0m",
      "\u001b[0;31mValueError\u001b[0m                                Traceback (most recent call last)",
      "\u001b[0;32m<ipython-input-19-f186e863d216>\u001b[0m in \u001b[0;36m<module>\u001b[0;34m\u001b[0m\n\u001b[1;32m      1\u001b[0m \u001b[0;31m#plt.title('Number of comments and their category for bad customer experience ')\u001b[0m\u001b[0;34m\u001b[0m\u001b[0;34m\u001b[0m\u001b[0;34m\u001b[0m\u001b[0m\n\u001b[0;32m----> 2\u001b[0;31m \u001b[0msns\u001b[0m\u001b[0;34m.\u001b[0m\u001b[0mcatplot\u001b[0m\u001b[0;34m(\u001b[0m\u001b[0mx\u001b[0m\u001b[0;34m=\u001b[0m\u001b[0;34m'region'\u001b[0m\u001b[0;34m,\u001b[0m\u001b[0mkind\u001b[0m\u001b[0;34m=\u001b[0m\u001b[0;34m'count'\u001b[0m\u001b[0;34m,\u001b[0m\u001b[0mhue\u001b[0m\u001b[0;34m=\u001b[0m\u001b[0;34m'division'\u001b[0m\u001b[0;34m,\u001b[0m\u001b[0mdata\u001b[0m\u001b[0;34m=\u001b[0m\u001b[0mdf_worse_experience\u001b[0m\u001b[0;34m)\u001b[0m\u001b[0;34m.\u001b[0m\u001b[0mset\u001b[0m\u001b[0;34m(\u001b[0m\u001b[0mtitle\u001b[0m\u001b[0;34m=\u001b[0m\u001b[0;34m'Where did worst experience happen?'\u001b[0m\u001b[0;34m)\u001b[0m\u001b[0;34m\u001b[0m\u001b[0;34m\u001b[0m\u001b[0m\n\u001b[0m\u001b[1;32m      3\u001b[0m \u001b[0mplt\u001b[0m\u001b[0;34m.\u001b[0m\u001b[0mxticks\u001b[0m\u001b[0;34m(\u001b[0m\u001b[0mrotation\u001b[0m\u001b[0;34m=\u001b[0m\u001b[0;34m'30'\u001b[0m\u001b[0;34m)\u001b[0m\u001b[0;34m\u001b[0m\u001b[0;34m\u001b[0m\u001b[0m\n\u001b[1;32m      4\u001b[0m \u001b[0mplt\u001b[0m\u001b[0;34m.\u001b[0m\u001b[0msavefig\u001b[0m\u001b[0;34m(\u001b[0m\u001b[0;34m'where_bad_experience.png'\u001b[0m\u001b[0;34m,\u001b[0m\u001b[0mbbox_inches\u001b[0m\u001b[0;34m=\u001b[0m\u001b[0;34m'tight'\u001b[0m\u001b[0;34m)\u001b[0m\u001b[0;34m\u001b[0m\u001b[0;34m\u001b[0m\u001b[0m\n\u001b[1;32m      5\u001b[0m \u001b[0mplt\u001b[0m\u001b[0;34m.\u001b[0m\u001b[0mshow\u001b[0m\u001b[0;34m(\u001b[0m\u001b[0;34m)\u001b[0m\u001b[0;34m\u001b[0m\u001b[0;34m\u001b[0m\u001b[0m\n",
      "\u001b[0;32m~/opt/anaconda3/lib/python3.8/site-packages/seaborn/_decorators.py\u001b[0m in \u001b[0;36minner_f\u001b[0;34m(*args, **kwargs)\u001b[0m\n\u001b[1;32m     44\u001b[0m             )\n\u001b[1;32m     45\u001b[0m         \u001b[0mkwargs\u001b[0m\u001b[0;34m.\u001b[0m\u001b[0mupdate\u001b[0m\u001b[0;34m(\u001b[0m\u001b[0;34m{\u001b[0m\u001b[0mk\u001b[0m\u001b[0;34m:\u001b[0m \u001b[0marg\u001b[0m \u001b[0;32mfor\u001b[0m \u001b[0mk\u001b[0m\u001b[0;34m,\u001b[0m \u001b[0marg\u001b[0m \u001b[0;32min\u001b[0m \u001b[0mzip\u001b[0m\u001b[0;34m(\u001b[0m\u001b[0msig\u001b[0m\u001b[0;34m.\u001b[0m\u001b[0mparameters\u001b[0m\u001b[0;34m,\u001b[0m \u001b[0margs\u001b[0m\u001b[0;34m)\u001b[0m\u001b[0;34m}\u001b[0m\u001b[0;34m)\u001b[0m\u001b[0;34m\u001b[0m\u001b[0;34m\u001b[0m\u001b[0m\n\u001b[0;32m---> 46\u001b[0;31m         \u001b[0;32mreturn\u001b[0m \u001b[0mf\u001b[0m\u001b[0;34m(\u001b[0m\u001b[0;34m**\u001b[0m\u001b[0mkwargs\u001b[0m\u001b[0;34m)\u001b[0m\u001b[0;34m\u001b[0m\u001b[0;34m\u001b[0m\u001b[0m\n\u001b[0m\u001b[1;32m     47\u001b[0m     \u001b[0;32mreturn\u001b[0m \u001b[0minner_f\u001b[0m\u001b[0;34m\u001b[0m\u001b[0;34m\u001b[0m\u001b[0m\n\u001b[1;32m     48\u001b[0m \u001b[0;34m\u001b[0m\u001b[0m\n",
      "\u001b[0;32m~/opt/anaconda3/lib/python3.8/site-packages/seaborn/categorical.py\u001b[0m in \u001b[0;36mcatplot\u001b[0;34m(x, y, hue, data, row, col, col_wrap, estimator, ci, n_boot, units, seed, order, hue_order, row_order, col_order, kind, height, aspect, orient, color, palette, legend, legend_out, sharex, sharey, margin_titles, facet_kws, **kwargs)\u001b[0m\n\u001b[1;32m   3801\u001b[0m     \u001b[0;31m# so we need to define ``palette`` to get default behavior for the\u001b[0m\u001b[0;34m\u001b[0m\u001b[0;34m\u001b[0m\u001b[0;34m\u001b[0m\u001b[0m\n\u001b[1;32m   3802\u001b[0m     \u001b[0;31m# categorical functions\u001b[0m\u001b[0;34m\u001b[0m\u001b[0;34m\u001b[0m\u001b[0;34m\u001b[0m\u001b[0m\n\u001b[0;32m-> 3803\u001b[0;31m     \u001b[0mp\u001b[0m\u001b[0;34m.\u001b[0m\u001b[0mestablish_colors\u001b[0m\u001b[0;34m(\u001b[0m\u001b[0mcolor\u001b[0m\u001b[0;34m,\u001b[0m \u001b[0mpalette\u001b[0m\u001b[0;34m,\u001b[0m \u001b[0;36m1\u001b[0m\u001b[0;34m)\u001b[0m\u001b[0;34m\u001b[0m\u001b[0;34m\u001b[0m\u001b[0m\n\u001b[0m\u001b[1;32m   3804\u001b[0m     \u001b[0;32mif\u001b[0m \u001b[0mkind\u001b[0m \u001b[0;34m!=\u001b[0m \u001b[0;34m\"point\"\u001b[0m \u001b[0;32mor\u001b[0m \u001b[0mhue\u001b[0m \u001b[0;32mis\u001b[0m \u001b[0;32mnot\u001b[0m \u001b[0;32mNone\u001b[0m\u001b[0;34m:\u001b[0m\u001b[0;34m\u001b[0m\u001b[0;34m\u001b[0m\u001b[0m\n\u001b[1;32m   3805\u001b[0m         \u001b[0mpalette\u001b[0m \u001b[0;34m=\u001b[0m \u001b[0mp\u001b[0m\u001b[0;34m.\u001b[0m\u001b[0mcolors\u001b[0m\u001b[0;34m\u001b[0m\u001b[0;34m\u001b[0m\u001b[0m\n",
      "\u001b[0;32m~/opt/anaconda3/lib/python3.8/site-packages/seaborn/categorical.py\u001b[0m in \u001b[0;36mestablish_colors\u001b[0;34m(self, color, palette, saturation)\u001b[0m\n\u001b[1;32m    317\u001b[0m         \u001b[0;31m# Determine the gray color to use for the lines framing the plot\u001b[0m\u001b[0;34m\u001b[0m\u001b[0;34m\u001b[0m\u001b[0;34m\u001b[0m\u001b[0m\n\u001b[1;32m    318\u001b[0m         \u001b[0mlight_vals\u001b[0m \u001b[0;34m=\u001b[0m \u001b[0;34m[\u001b[0m\u001b[0mcolorsys\u001b[0m\u001b[0;34m.\u001b[0m\u001b[0mrgb_to_hls\u001b[0m\u001b[0;34m(\u001b[0m\u001b[0;34m*\u001b[0m\u001b[0mc\u001b[0m\u001b[0;34m)\u001b[0m\u001b[0;34m[\u001b[0m\u001b[0;36m1\u001b[0m\u001b[0;34m]\u001b[0m \u001b[0;32mfor\u001b[0m \u001b[0mc\u001b[0m \u001b[0;32min\u001b[0m \u001b[0mrgb_colors\u001b[0m\u001b[0;34m]\u001b[0m\u001b[0;34m\u001b[0m\u001b[0;34m\u001b[0m\u001b[0m\n\u001b[0;32m--> 319\u001b[0;31m         \u001b[0mlum\u001b[0m \u001b[0;34m=\u001b[0m \u001b[0mmin\u001b[0m\u001b[0;34m(\u001b[0m\u001b[0mlight_vals\u001b[0m\u001b[0;34m)\u001b[0m \u001b[0;34m*\u001b[0m \u001b[0;36m.6\u001b[0m\u001b[0;34m\u001b[0m\u001b[0;34m\u001b[0m\u001b[0m\n\u001b[0m\u001b[1;32m    320\u001b[0m         \u001b[0mgray\u001b[0m \u001b[0;34m=\u001b[0m \u001b[0mmpl\u001b[0m\u001b[0;34m.\u001b[0m\u001b[0mcolors\u001b[0m\u001b[0;34m.\u001b[0m\u001b[0mrgb2hex\u001b[0m\u001b[0;34m(\u001b[0m\u001b[0;34m(\u001b[0m\u001b[0mlum\u001b[0m\u001b[0;34m,\u001b[0m \u001b[0mlum\u001b[0m\u001b[0;34m,\u001b[0m \u001b[0mlum\u001b[0m\u001b[0;34m)\u001b[0m\u001b[0;34m)\u001b[0m\u001b[0;34m\u001b[0m\u001b[0;34m\u001b[0m\u001b[0m\n\u001b[1;32m    321\u001b[0m \u001b[0;34m\u001b[0m\u001b[0m\n",
      "\u001b[0;31mValueError\u001b[0m: min() arg is an empty sequence"
     ]
    }
   ],
   "source": [
    "#plt.title('Number of comments and their category for bad customer experience ')\n",
    "sns.catplot(x='region',kind='count',hue='division',data=df_worse_experience).set(title='Where did worst experience happen?')\n",
    "plt.xticks(rotation='30')\n",
    "plt.savefig('where_bad_experience.png',bbox_inches='tight')\n",
    "plt.show()"
   ]
  },
  {
   "cell_type": "markdown",
   "metadata": {},
   "source": [
    "**We can see that Region 1,2,3 neeed to specially focus on 'other' division, while Region 4 needs to focus more on 'House' division.**"
   ]
  },
  {
   "cell_type": "markdown",
   "metadata": {},
   "source": [
    "### ----------Bad Customer Experience (What time ?)---------- ###"
   ]
  },
  {
   "cell_type": "code",
   "execution_count": null,
   "metadata": {},
   "outputs": [],
   "source": [
    "time_order=['8am','9am','10am','11am','12pm','1pm','2pm','3pm','4pm','5pm','6pm']\n",
    "sns.catplot(x='time_of_day',kind='count',data=df_worse_experience,order=time_order).set(title='What time did worst experience happen?')\n",
    "plt.xticks(rotation='30')\n",
    "plt.savefig('time_bad_experience.png',bbox_inches='tight')\n",
    "plt.show()"
   ]
  },
  {
   "cell_type": "markdown",
   "metadata": {},
   "source": [
    "**Although bad experiences are not felt on some specific time, it can be seen it's recorded more between 9am-11am and 5 pm.**"
   ]
  },
  {
   "cell_type": "markdown",
   "metadata": {},
   "source": [
    "### -------- Good Customer Experience (which stores)-------- ###"
   ]
  },
  {
   "cell_type": "code",
   "execution_count": null,
   "metadata": {},
   "outputs": [],
   "source": [
    "# Find the stores satisfying good customer experience\n",
    "good_condition1=(df_cleaned['customer_satisfaction_score']>6)& (df_cleaned['likelihood_to_shop_again']>6)\n",
    "good_condition2=(df_cleaned['service']=='Better')&(df_cleaned['availability']=='Better')\n",
    "good_condition3=df_cleaned['sentiment_polarity']>=0\n",
    "category_condition=(df_cleaned['category']=='In-store Shopping Improvement Comments')|(df_cleaned['category']=='Satisfaction Comments')\n",
    "df_good_experience=df_cleaned[(good_condition1 & good_condition2)& good_condition3]\n",
    "df_good_store=df_cleaned[(good_condition1 & good_condition2)& (good_condition3 & category_condition)]\n",
    "good_store=len(df_good_store.store.value_counts())\n",
    "print('Total number of the good experiences found are:')\n",
    "print(len(df_good_experience))\n",
    "print(\"\\nTotal number of good stores\"+\" :\"+ str(good_store))\n",
    "print(\"\\nThe good stores are:\\n\")\n",
    "df_good_store.store.unique()"
   ]
  },
  {
   "cell_type": "markdown",
   "metadata": {},
   "source": [
    "### ---------------Good Customer Experience(which region and divison)----------- #####"
   ]
  },
  {
   "cell_type": "code",
   "execution_count": null,
   "metadata": {},
   "outputs": [],
   "source": [
    "sns.catplot(x='region',kind='count',hue='division',data=df_good_experience).set(title='Where did good experience happen?')\n",
    "plt.xticks(rotation='30')\n",
    "plt.savefig('where_good_experience.png',bbox_inches='tight')\n",
    "plt.show()"
   ]
  },
  {
   "cell_type": "markdown",
   "metadata": {},
   "source": [
    "**Most of the customers recording good shopping experiences did shopping in 'Apparel' and 'Other' division of different regions.**"
   ]
  },
  {
   "cell_type": "markdown",
   "metadata": {},
   "source": [
    "### ----------- Good Customer Experience(What time?)------- ###"
   ]
  },
  {
   "cell_type": "code",
   "execution_count": null,
   "metadata": {},
   "outputs": [],
   "source": [
    "time_order=['8am','9am','10am','11am','12pm','1pm','2pm','3pm','4pm','5pm','6pm']\n",
    "sns.catplot(x='time_of_day',kind='count',data=df_good_experience,order=time_order).set(title='What time did good experience happen?')\n",
    "plt.xticks(rotation='30')\n",
    "plt.savefig('time_good_experience.png',bbox_inches='tight')\n",
    "plt.show()"
   ]
  },
  {
   "cell_type": "markdown",
   "metadata": {},
   "source": [
    "**We can see that most of the customers who had good experiences shop at 9am and 1-2pm.**"
   ]
  },
  {
   "cell_type": "markdown",
   "metadata": {},
   "source": [
    "###  -------- Bad Experience (price and quality)--------- ###"
   ]
  },
  {
   "cell_type": "code",
   "execution_count": null,
   "metadata": {},
   "outputs": [],
   "source": [
    "bad_condition=(df_cleaned.price=='Worse')& (df_cleaned.category=='Product Quality Comments')&(df_cleaned.sentiment_polarity<0)\n",
    "worse_price_quality=df_cleaned[bad_condition]\n",
    "sns.catplot(x='age_group',data=worse_price_quality,hue='division',kind='count',order=age_order).set(title='Bad price and quality feedback')\n",
    "plt.savefig('price_quality_problem.png',bbox_inches='tight')"
   ]
  },
  {
   "cell_type": "markdown",
   "metadata": {},
   "source": [
    "**From figure above it is clear that customers aged above 60 have bad experience of price and quality mostly in 'other'and 'baby' division.Young people seem unhappy with quality and price of 'Apparel' and 'Other' division of items more than other division of items. It needs special attention.**"
   ]
  },
  {
   "cell_type": "markdown",
   "metadata": {},
   "source": [
    "### --------Store List (Only Bad Experience)----- ###"
   ]
  },
  {
   "cell_type": "code",
   "execution_count": null,
   "metadata": {},
   "outputs": [],
   "source": [
    "#is there any stores where only bad experience is recorded ?\n",
    "\n",
    "set_common=set(df_worse_experience.store).intersection(set(df_good_experience.store))\n",
    "set_bad_only_store=set(df_worse_experience.store).difference(set_common)\n",
    "print(list(set_bad_only_store))\n"
   ]
  },
  {
   "cell_type": "markdown",
   "metadata": {},
   "source": [
    "### ------Store List (Only Good Experience)----- ###"
   ]
  },
  {
   "cell_type": "code",
   "execution_count": null,
   "metadata": {},
   "outputs": [],
   "source": [
    "#is there any stores where only good experience is recorded?\n",
    "set_good_only_store=set(df_good_experience.store).difference(set_common)\n",
    "print('These are stores where only good experience is recorded\\n')\n",
    "print(list(set_good_only_store))"
   ]
  },
  {
   "cell_type": "code",
   "execution_count": null,
   "metadata": {},
   "outputs": [],
   "source": [
    "#relationship between age and sentiment polarity\n",
    "#df_cleaned.total_spend.astype(float)\n",
    "sns.catplot(x='age_group',y='sentiment_polarity',hue='gender',data=df_cleaned,kind='box')"
   ]
  },
  {
   "cell_type": "markdown",
   "metadata": {},
   "source": [
    "### Let's find those negative comments from customer having bad experience ###"
   ]
  },
  {
   "cell_type": "code",
   "execution_count": null,
   "metadata": {},
   "outputs": [],
   "source": [
    "def word_count_comment_tag(myseries):\n",
    "    all_tags=[]\n",
    "    comment_tags=list((myseries))\n",
    "    for every_tag in comment_tags:\n",
    "        all_tags.extend(list(str(every_tag).split(',')))\n",
    "    \n",
    "    all_tags.remove(' ')\n",
    "#all_tags\n",
    "\n",
    "    comments_count={}\n",
    "    for comments in all_tags:\n",
    "        comments=str(comments).lower().strip()\n",
    "        if comments in comments_count:\n",
    "            comments_count[comments]+=1\n",
    "        else:\n",
    "            comments_count[comments]=1\n",
    "    sorted_comment=dict(sorted(comments_count.items(), key=lambda item: item[1],reverse=True))\n",
    "    del sorted_comment['nan']\n",
    "    del sorted_comment['']\n",
    "    print(sorted_comment)\n",
    "\n",
    "word_count_comment_tag(df_worse_experience['comment_tags'])"
   ]
  },
  {
   "cell_type": "markdown",
   "metadata": {},
   "source": [
    "**From above list of most frequent comment tags, we can see most of the comments tags consists of words such as choice, range, store management and staff, Apparel, product, stock, time, quallity, checkout and cleanliness.**\n",
    "\n",
    "**We can also have a look at real comment which is described below:**"
   ]
  },
  {
   "cell_type": "code",
   "execution_count": null,
   "metadata": {},
   "outputs": [],
   "source": [
    "pd.set_option(\"display.max_colwidth\", None)\n",
    "df_worse_experience[df_worse_experience.sentiment_polarity<-0.0]['comment']"
   ]
  },
  {
   "cell_type": "markdown",
   "metadata": {},
   "source": [
    "### --------------- What words are most frequently used by people with good experience?--------- ####"
   ]
  },
  {
   "cell_type": "code",
   "execution_count": null,
   "metadata": {},
   "outputs": [],
   "source": [
    "word_count_comment_tag(df_good_experience['comment_tags'])"
   ]
  },
  {
   "cell_type": "markdown",
   "metadata": {},
   "source": [
    "**Customers with good experience frequently used the words staff, services,range of products, size, choice, apparel,cleanliness, quality, checkout and time** "
   ]
  },
  {
   "cell_type": "markdown",
   "metadata": {},
   "source": [
    "### Recommendations:\n",
    "\n",
    "Stores in which customers reported only worst experiences need immediate attention.From above comments we can derive some major issues that has caused bad customer experiences and should be addressed first starting from  worst stores.Major recommendations are listed below:\n",
    "\n",
    "* Need to check and organize the stocks properly and fill the empty products as soon as possible\n",
    "* Need to monitor the products quality and cleanliness\n",
    "* Customer service needs to improve, queue should not be long\n",
    "* We can see that Region 1,2,3 neeed to specially focus on 'other' division, while Region 4 needs to focus more on 'House' division.\n",
    "* Althoug bad experiences are not felt on some specific time, it can be seen it's recorded more between 9am-11am and 5 pm\n",
    "\n",
    "\n",
    "* **Immediate attention should be given to following list of stores for improvements:**\n",
    "\n",
    "    **'Dalby', 'Tweed Heads', 'Liverpool', 'Bairnsdale', 'Warrnambool', 'The Willows', 'Belconnen', 'Mareeba', 'Watergardens', 'Rhodes', 'Robina', 'Victor Harbor', 'Midland', 'Fountain Gate', 'Rouse Hill', 'Southport', 'Gladstone', 'Maroochydore', 'Eastgardens', 'Kalgoorlie', 'Gympie', 'Benalla', 'Capalaba', 'Blacktown', 'Cannot find store', 'Forest Hill', 'Roselands'**\n",
    "\n",
    "    \n",
    "          \n",
    "           "
   ]
  }
 ],
 "metadata": {
  "kernelspec": {
   "display_name": "Python 3",
   "language": "python",
   "name": "python3"
  },
  "language_info": {
   "codemirror_mode": {
    "name": "ipython",
    "version": 3
   },
   "file_extension": ".py",
   "mimetype": "text/x-python",
   "name": "python",
   "nbconvert_exporter": "python",
   "pygments_lexer": "ipython3",
   "version": "3.8.5"
  }
 },
 "nbformat": 4,
 "nbformat_minor": 4
}
